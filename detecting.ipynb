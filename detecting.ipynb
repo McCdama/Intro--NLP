{
 "cells": [
  {
   "cell_type": "code",
   "execution_count": 5,
   "id": "8bb04515",
   "metadata": {},
   "outputs": [],
   "source": [
    "import pandas as pd\n",
    "import spacy \n",
    "\n",
    "nlp = spacy.load(\"en_core_web_sm\")"
   ]
  },
  {
   "cell_type": "code",
   "execution_count": 7,
   "id": "a833e4a0",
   "metadata": {},
   "outputs": [],
   "source": [
    "df = (pd.read_csv(\"Questions.csv\", nrows=2_000_000, \n",
    "                  encoding=\"ISO-8859-1\", usecols=['Title', 'Id']))\n",
    "\n",
    "titles = [_ for _ in df.loc[lambda d: d['Title'].str.lower().str.contains(\"go\")]['Title']]"
   ]
  },
  {
   "cell_type": "code",
   "execution_count": 8,
   "id": "0899583f",
   "metadata": {},
   "outputs": [],
   "source": [
    "nlp = spacy.load(\"en_core_web_sm\", disable=[\"ner\"])"
   ]
  },
  {
   "cell_type": "code",
   "execution_count": 11,
   "id": "35eeecc4",
   "metadata": {},
   "outputs": [
    {
     "name": "stdout",
     "output_type": "stream",
     "text": [
      "CPU times: total: 13 s\n",
      "Wall time: 13 s\n"
     ]
    },
    {
     "data": {
      "text/plain": [
       "[Can I append an Ajax requestXML object to my document tree all in one go?,\n",
       " Deploying multiple Java web apps to Glassfish in one go,\n",
       " Removing all event handlers in one go,\n",
       " How do I disable multiple listboxes in one go using jQuery?,\n",
       " Is there a way to find a specific file and then change into the directory containing it in one go?,\n",
       " SOAPUI & Groovy Scripts, executing multiple SQL statements in one go,\n",
       " Import large chunk of data into Google App Engine Data Store at one go,\n",
       " How many records can be loaded into Salesforce using Apex Data Loader in one go?,\n",
       " Reading utf8-encoded data from a connection, using Go,\n",
       " Checking if a channel has a ready-to-read value, using Go,\n",
       " How can I run multiple inserts with NHibernate in one go?,\n",
       " Letting go of auto_ptr,\n",
       " Saving all nested form objects in one go,\n",
       " Generating Random Numbers in Go,\n",
       " How do I allocate memory for an array in the go programming language?,\n",
       " Any tricks to export Go docs to be served statically?,\n",
       " What's wrong with the following go code that I receive 'all goroutines are asleep - deadlock!',\n",
       " throw all goroutines are asleep - deadlock! ------- Error in Google's GO,\n",
       " Pass variables into Thread on the go?,\n",
       " If two options are the same go to next option in second select,\n",
       " C macro define many variables in one go,\n",
       " Update 30 fields in a table in one go,\n",
       " How to clone an element and insert it multiple times in one go?,\n",
       " Change EOL on multiple files in one go,\n",
       " Idiomatic way to do conversion/type assertion on multiple return values in Go,\n",
       " Decoding variable-schema JSON in Go,\n",
       " How do I use an custom int type with range in go?,\n",
       " How to generate IObservable index delta on the go?,\n",
       " Pylint ignores disable-msg - but only dependent on other modules linted in the same go,\n",
       " Error pages in go based web application]"
      ]
     },
     "execution_count": 11,
     "metadata": {},
     "output_type": "execute_result"
    }
   ],
   "source": [
    "%%time\n",
    "\n",
    "def has_golang(doc):\n",
    "    for t in doc:\n",
    "        if t.lower_ in [\"go\", \"golang\"]:\n",
    "            if t.pos_ == \"NOUN\":\n",
    "                return True \n",
    "    return False\n",
    "\n",
    "g = (doc for doc in nlp.pipe(titles) if has_golang(doc))\n",
    "[next(g) for i in range(30)]"
   ]
  },
  {
   "cell_type": "code",
   "execution_count": 12,
   "id": "ace38854",
   "metadata": {},
   "outputs": [
    {
     "data": {
      "text/plain": [
       "(1858, 879, 110)"
      ]
     },
     "execution_count": 12,
     "metadata": {},
     "output_type": "execute_result"
    }
   ],
   "source": [
    "df_tags = pd.read_csv(\"Tags.csv\")\n",
    "go_ids = df_tags.loc[lambda d: d['Tag'] == 'go']['Id']\n",
    "\n",
    "def has_go_token(doc):\n",
    "    for t in doc:\n",
    "        if t.lower_ in ['go', 'golang']:\n",
    "            if t.pos_ != 'VERB':\n",
    "                return True\n",
    "    return False\n",
    "\n",
    "all_go_sentences = df.loc[lambda d: d['Id'].isin(go_ids)]['Title'].tolist()\n",
    "detectable = [d.text for d in nlp.pipe(all_go_sentences) if has_go_token(d)]\n",
    "\n",
    "non_detectable = (df\n",
    "                  .loc[lambda d: ~d['Id'].isin(go_ids)]\n",
    "                  .loc[lambda d: d['Title'].str.lower().str.contains(\"go\")]\n",
    "                  ['Title']\n",
    "                  .tolist())\n",
    "\n",
    "non_detectable = [d.text for d in nlp.pipe(non_detectable) if has_go_token(d)]\n",
    "\n",
    "len(all_go_sentences), len(detectable), len(non_detectable)"
   ]
  },
  {
   "cell_type": "code",
   "execution_count": 13,
   "id": "91cc30c7",
   "metadata": {},
   "outputs": [
    {
     "data": {
      "text/plain": [
       "'0.8887765419615774,1.0,0.8887765419615774,en_core_web_sm,not-verb-but-pobj'"
      ]
     },
     "execution_count": 13,
     "metadata": {},
     "output_type": "execute_result"
    }
   ],
   "source": [
    "model_name = \"en_core_web_sm\"\n",
    "model = spacy.load(model_name, disable=[\"ner\"])\n",
    "\n",
    "def has_go_token(doc):\n",
    "    for t in doc:\n",
    "        if t.lower_ in [\"go\", \"golang\"]:\n",
    "            if t.pos_ != \"VERB\":\n",
    "                return True\n",
    "    return False\n",
    "\n",
    "method = \"not-verb-but-pobj\"\n",
    "\n",
    "correct = sum(has_go_token(doc) for doc in model.pipe(detectable))\n",
    "wrong = sum(has_go_token(doc) for doc in model.pipe(non_detectable))\n",
    "precision = correct/(correct + wrong)\n",
    "recall = correct/len(detectable)\n",
    "accuracy = (correct + len(non_detectable) - wrong)/(len(detectable) + len(non_detectable))\n",
    "\n",
    "f\"{precision},{recall},{accuracy},{model_name},{method}\""
   ]
  }
 ],
 "metadata": {
  "kernelspec": {
   "display_name": "Python 3 (ipykernel)",
   "language": "python",
   "name": "python3"
  },
  "language_info": {
   "codemirror_mode": {
    "name": "ipython",
    "version": 3
   },
   "file_extension": ".py",
   "mimetype": "text/x-python",
   "name": "python",
   "nbconvert_exporter": "python",
   "pygments_lexer": "ipython3",
   "version": "3.8.5"
  }
 },
 "nbformat": 4,
 "nbformat_minor": 5
}
