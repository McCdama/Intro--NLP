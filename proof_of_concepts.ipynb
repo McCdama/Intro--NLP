{
 "cells": [
  {
   "cell_type": "code",
   "execution_count": 3,
   "id": "7c6fbd53-d6af-4c86-b6fa-e86ab34b5a1d",
   "metadata": {},
   "outputs": [],
   "source": [
    "import pandas as pd\n",
    "\n",
    "df = (pd.read_csv(\"Questions.csv\", nrows=1_000_000,\n",
    "                encoding=\"ISO-8859-1\", usecols=['Title', 'Id']))\n",
    "titles = [_ for _ in df['Title']]"
   ]
  },
  {
   "cell_type": "code",
   "execution_count": 6,
   "id": "cf24494a-149f-4e72-aa3f-312727020a8e",
   "metadata": {},
   "outputs": [
    {
     "data": {
      "text/plain": [
       "['How to return an object with the biggest collections size in JPA?',\n",
       " 'HTML, CSS how to make width of element always to bottom of page?',\n",
       " \"jersey sse doesn't work on wildfly 8.2\",\n",
       " 'Get current week from Access Date/Time Field in QT?',\n",
       " 'how to use rubinius to compile rails app?',\n",
       " 'Kendo Hierarchical Grids reload data of first opened details grid',\n",
       " 'How to run SQL Server stored procedure query for each value of a CSV',\n",
       " 'how to use DES_DECRYPT() function to get data from mysql?',\n",
       " 'Client to the Server communication with Action Script',\n",
       " 'Calling an external class object from function on main class',\n",
       " 'LoweÂ´s Yahalom Security Protocol',\n",
       " 'Protovis Scale Interaction Line Chart example',\n",
       " 'Directory.Exists return value for a user with no read/write permissions?',\n",
       " 'size limit of allocation in c++?',\n",
       " 'Letters correspondence in RDF/XML',\n",
       " 'Does Backbone Relational have problems when two separate (but \"related\") collections contain models with identical Ids?',\n",
       " 'Set character encoding in jboss-web.xml',\n",
       " 'How to install multiple perl modules at once using CPAN',\n",
       " 'Returning A Value To a Swing Class from another Swing Class',\n",
       " 'Syntax error running BLAST online with Biopython']"
      ]
     },
     "execution_count": 6,
     "metadata": {},
     "output_type": "execute_result"
    }
   ],
   "source": [
    "import random\n",
    "\n",
    "random.choices(titles, k=20)"
   ]
  },
  {
   "cell_type": "code",
   "execution_count": 7,
   "id": "ad781ef4-fa24-468c-a0ef-7dad449a5513",
   "metadata": {},
   "outputs": [
    {
     "data": {
      "text/plain": [
       "['Where does Console.WriteLine go in ASP.NET?',\n",
       " 'Should try...catch go inside or outside a loop?']"
      ]
     },
     "execution_count": 7,
     "metadata": {},
     "output_type": "execute_result"
    }
   ],
   "source": [
    "def has_golang(text):\n",
    "    return \" go \" in text\n",
    "\n",
    "\n",
    "g = (title for title in titles if has_golang(title))\n",
    "[next(g) for i in range(2)]"
   ]
  },
  {
   "cell_type": "code",
   "execution_count": 8,
   "id": "95216b26-9c67-485e-bca0-59a89daf45a1",
   "metadata": {},
   "outputs": [],
   "source": [
    "import spacy\n",
    "\n",
    "nlp = spacy.load(\"en_core_web_sm\")"
   ]
  },
  {
   "cell_type": "code",
   "execution_count": 9,
   "id": "92fe559b-be6f-4440-9ce6-a5b75da64368",
   "metadata": {},
   "outputs": [
    {
     "data": {
      "text/plain": [
       "spacy.tokens.doc.Doc"
      ]
     },
     "execution_count": 9,
     "metadata": {},
     "output_type": "execute_result"
    }
   ],
   "source": [
    "type(nlp(\"My name is Mohed.\"))"
   ]
  },
  {
   "cell_type": "code",
   "execution_count": 10,
   "id": "3c78b168-a761-4329-b4a2-7156adb4b740",
   "metadata": {},
   "outputs": [
    {
     "data": {
      "text/plain": [
       "[My, name, is, Ajassem, .]"
      ]
     },
     "execution_count": 10,
     "metadata": {},
     "output_type": "execute_result"
    }
   ],
   "source": [
    "[t for t in nlp(\"My name is Ajassem.\")]"
   ]
  },
  {
   "cell_type": "code",
   "execution_count": 11,
   "id": "3e2fbabe-fcaf-41e4-9b29-f1afd3ffc0e5",
   "metadata": {},
   "outputs": [],
   "source": [
    "doc = nlp(\"My name is Mohammad.\")"
   ]
  },
  {
   "cell_type": "code",
   "execution_count": 9,
   "id": "cee8f63b-c303-4faf-98f6-94ee3af517da",
   "metadata": {},
   "outputs": [],
   "source": [
    "t = doc[0]"
   ]
  },
  {
   "cell_type": "code",
   "execution_count": 10,
   "id": "184d7ed5-eab7-4926-a302-d5d1aa729615",
   "metadata": {},
   "outputs": [
    {
     "data": {
      "text/plain": [
       "spacy.tokens.token.Token"
      ]
     },
     "execution_count": 10,
     "metadata": {},
     "output_type": "execute_result"
    }
   ],
   "source": [
    "type(t)"
   ]
  },
  {
   "cell_type": "code",
   "execution_count": 12,
   "id": "40c69386-7298-4e65-97d3-1aaa469bdf44",
   "metadata": {},
   "outputs": [
    {
     "data": {
      "text/html": [
       "<span class=\"tex2jax_ignore\"><svg xmlns=\"http://www.w3.org/2000/svg\" xmlns:xlink=\"http://www.w3.org/1999/xlink\" xml:lang=\"en\" id=\"471ec23e7c2d4f87a3d7e24a15b31d76-0\" class=\"displacy\" width=\"750\" height=\"224.5\" direction=\"ltr\" style=\"max-width: none; height: 224.5px; color: #000000; background: #ffffff; font-family: Arial; direction: ltr\">\n",
       "<text class=\"displacy-token\" fill=\"currentColor\" text-anchor=\"middle\" y=\"134.5\">\n",
       "    <tspan class=\"displacy-word\" fill=\"currentColor\" x=\"50\">My</tspan>\n",
       "    <tspan class=\"displacy-tag\" dy=\"2em\" fill=\"currentColor\" x=\"50\">PRON</tspan>\n",
       "</text>\n",
       "\n",
       "<text class=\"displacy-token\" fill=\"currentColor\" text-anchor=\"middle\" y=\"134.5\">\n",
       "    <tspan class=\"displacy-word\" fill=\"currentColor\" x=\"225\">name</tspan>\n",
       "    <tspan class=\"displacy-tag\" dy=\"2em\" fill=\"currentColor\" x=\"225\">NOUN</tspan>\n",
       "</text>\n",
       "\n",
       "<text class=\"displacy-token\" fill=\"currentColor\" text-anchor=\"middle\" y=\"134.5\">\n",
       "    <tspan class=\"displacy-word\" fill=\"currentColor\" x=\"400\">is</tspan>\n",
       "    <tspan class=\"displacy-tag\" dy=\"2em\" fill=\"currentColor\" x=\"400\">AUX</tspan>\n",
       "</text>\n",
       "\n",
       "<text class=\"displacy-token\" fill=\"currentColor\" text-anchor=\"middle\" y=\"134.5\">\n",
       "    <tspan class=\"displacy-word\" fill=\"currentColor\" x=\"575\">Mohammad.</tspan>\n",
       "    <tspan class=\"displacy-tag\" dy=\"2em\" fill=\"currentColor\" x=\"575\">PROPN</tspan>\n",
       "</text>\n",
       "\n",
       "<g class=\"displacy-arrow\">\n",
       "    <path class=\"displacy-arc\" id=\"arrow-471ec23e7c2d4f87a3d7e24a15b31d76-0-0\" stroke-width=\"2px\" d=\"M70,89.5 C70,2.0 225.0,2.0 225.0,89.5\" fill=\"none\" stroke=\"currentColor\"/>\n",
       "    <text dy=\"1.25em\" style=\"font-size: 0.8em; letter-spacing: 1px\">\n",
       "        <textPath xlink:href=\"#arrow-471ec23e7c2d4f87a3d7e24a15b31d76-0-0\" class=\"displacy-label\" startOffset=\"50%\" side=\"left\" fill=\"currentColor\" text-anchor=\"middle\">poss</textPath>\n",
       "    </text>\n",
       "    <path class=\"displacy-arrowhead\" d=\"M70,91.5 L62,79.5 78,79.5\" fill=\"currentColor\"/>\n",
       "</g>\n",
       "\n",
       "<g class=\"displacy-arrow\">\n",
       "    <path class=\"displacy-arc\" id=\"arrow-471ec23e7c2d4f87a3d7e24a15b31d76-0-1\" stroke-width=\"2px\" d=\"M245,89.5 C245,2.0 400.0,2.0 400.0,89.5\" fill=\"none\" stroke=\"currentColor\"/>\n",
       "    <text dy=\"1.25em\" style=\"font-size: 0.8em; letter-spacing: 1px\">\n",
       "        <textPath xlink:href=\"#arrow-471ec23e7c2d4f87a3d7e24a15b31d76-0-1\" class=\"displacy-label\" startOffset=\"50%\" side=\"left\" fill=\"currentColor\" text-anchor=\"middle\">nsubj</textPath>\n",
       "    </text>\n",
       "    <path class=\"displacy-arrowhead\" d=\"M245,91.5 L237,79.5 253,79.5\" fill=\"currentColor\"/>\n",
       "</g>\n",
       "\n",
       "<g class=\"displacy-arrow\">\n",
       "    <path class=\"displacy-arc\" id=\"arrow-471ec23e7c2d4f87a3d7e24a15b31d76-0-2\" stroke-width=\"2px\" d=\"M420,89.5 C420,2.0 575.0,2.0 575.0,89.5\" fill=\"none\" stroke=\"currentColor\"/>\n",
       "    <text dy=\"1.25em\" style=\"font-size: 0.8em; letter-spacing: 1px\">\n",
       "        <textPath xlink:href=\"#arrow-471ec23e7c2d4f87a3d7e24a15b31d76-0-2\" class=\"displacy-label\" startOffset=\"50%\" side=\"left\" fill=\"currentColor\" text-anchor=\"middle\">attr</textPath>\n",
       "    </text>\n",
       "    <path class=\"displacy-arrowhead\" d=\"M575.0,91.5 L583.0,79.5 567.0,79.5\" fill=\"currentColor\"/>\n",
       "</g>\n",
       "</svg></span>"
      ],
      "text/plain": [
       "<IPython.core.display.HTML object>"
      ]
     },
     "metadata": {},
     "output_type": "display_data"
    }
   ],
   "source": [
    "from spacy import displacy\n",
    "\n",
    "displacy.render(doc)"
   ]
  },
  {
   "cell_type": "code",
   "execution_count": 14,
   "id": "aac6a3c4-f3d6-4c16-92e8-c6cb3b1929bf",
   "metadata": {},
   "outputs": [
    {
     "data": {
      "text/plain": [
       "'attribute'"
      ]
     },
     "execution_count": 14,
     "metadata": {},
     "output_type": "execute_result"
    }
   ],
   "source": [
    "spacy.explain(\"attr\")"
   ]
  },
  {
   "cell_type": "code",
   "execution_count": 15,
   "id": "0c5f6e86-faba-4779-a908-b52c453d0b12",
   "metadata": {},
   "outputs": [
    {
     "data": {
      "text/plain": [
       "'possession modifier'"
      ]
     },
     "execution_count": 15,
     "metadata": {},
     "output_type": "execute_result"
    }
   ],
   "source": [
    "spacy.explain(\"poss\")"
   ]
  },
  {
   "cell_type": "code",
   "execution_count": 16,
   "id": "307bf1b0-f98e-4382-aa3d-8e7316395edb",
   "metadata": {
    "scrolled": true
   },
   "outputs": [
    {
     "name": "stdout",
     "output_type": "stream",
     "text": [
      "My PRON poss\n",
      "name NOUN nsubj\n",
      "is AUX ROOT\n",
      "Mohammad PROPN attr\n",
      ". PUNCT punct\n"
     ]
    }
   ],
   "source": [
    "for t in doc:\n",
    "    print(t, t.pos_, t.dep_)"
   ]
  },
  {
   "cell_type": "code",
   "execution_count": 17,
   "id": "6600c4db-9b4a-4018-b8a1-aded4984142a",
   "metadata": {
    "scrolled": true
   },
   "outputs": [
    {
     "name": "stdout",
     "output_type": "stream",
     "text": [
      "Where SCONJ advmod\n",
      "does AUX aux\n",
      "Console PROPN ROOT\n",
      ". PUNCT punct\n",
      "WriteLine PROPN nsubj\n",
      "go VERB ROOT\n",
      "in ADP prep\n",
      "ASP.NET PROPN pobj\n",
      "? PUNCT punct\n"
     ]
    }
   ],
   "source": [
    "for t in nlp(\"Where does Console.WriteLine go in ASP.NET?\"):\n",
    "    print(t, t.pos_, t.dep_)"
   ]
  }
 ],
 "metadata": {
  "kernelspec": {
   "display_name": "Python 3 (ipykernel)",
   "language": "python",
   "name": "python3"
  },
  "language_info": {
   "codemirror_mode": {
    "name": "ipython",
    "version": 3
   },
   "file_extension": ".py",
   "mimetype": "text/x-python",
   "name": "python",
   "nbconvert_exporter": "python",
   "pygments_lexer": "ipython3",
   "version": "3.8.5"
  }
 },
 "nbformat": 4,
 "nbformat_minor": 5
}
